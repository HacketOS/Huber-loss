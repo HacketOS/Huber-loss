{
 "cells": [
  {
   "cell_type": "markdown",
   "metadata": {},
   "source": [
    "### Regression with huber loss function"
   ]
  },
  {
   "cell_type": "markdown",
   "metadata": {},
   "source": [
    "Функция потерь Хьюбера\n",
    "$$\n",
    "L_\\delta(a,y)=\n",
    "\\begin{cases}\n",
    " \\frac{1}{2}(y - a)^2,                   & |y - a| \\le \\delta, \\\\\n",
    " \\delta\\, |y - a| - \\frac{1}{2}\\delta^2 & \\textrm{иначе.}\n",
    "\\end{cases}\n",
    "$$\n",
    "производная по вектору \n",
    "\n",
    "$$\n",
    "\\frac{\\partial L}{\\partial\\omega}=\\left\\{\\begin{array}{l}X^T(y\\;-\\;\\omega X)\\;,\\;\\;\\;\\;\\;\\left|y\\;-\\;\\omega X\\right|\\leqslant\\delta\\\\X^Tsign\\lbrack y-\\omega X\\rbrack\\end{array}\\right.\n",
    "$$"
   ]
  },
  {
   "cell_type": "code",
   "execution_count": 1,
   "metadata": {},
   "outputs": [],
   "source": [
    "import pandas as pd\n",
    "import numpy.linalg as la\n",
    "import numpy as np\n",
    "from sklearn.base import BaseEstimator\n",
    "from sklearn.model_selection import train_test_split\n",
    "from sklearn.model_selection import GridSearchCV"
   ]
  },
  {
   "cell_type": "code",
   "execution_count": 2,
   "metadata": {
    "code_folding": []
   },
   "outputs": [],
   "source": [
    "class HuberReg(BaseEstimator):\n",
    "    def __init__(self, delta=1.0, gd_type='stochastic',\n",
    "                 tolerance=1e-4, max_iter=10000, w0=None, alpha=1e-3,batch_size = 10):\n",
    "        \"\"\"\n",
    "        gd_type: 'full' or 'stochastic'\n",
    "        tolerance: for stopping gradient descent\n",
    "        max_iter: maximum number of steps in gradient descent\n",
    "        w0: np.array of shape (d) - init weights\n",
    "        alpha: momentum coefficient\n",
    "        \"\"\"\n",
    "        self.delta = delta\n",
    "        self.gd_type = gd_type\n",
    "        self.tolerance = tolerance\n",
    "        self.max_iter = max_iter\n",
    "        self.w0 = w0  \n",
    "        self.alpha = alpha\n",
    "        self.w = None\n",
    "        self.batch_size = batch_size\n",
    "        self.loss_history = None \n",
    "    \n",
    "    def calc_loss(self, X, y):\n",
    "        if la.norm(y - np.dot(X,self.w)) <= self.delta:\n",
    "            return 0.5 * la.norm(y -np.dot(X,self.w))\n",
    "        else:\n",
    "            return self.delta*la.norm((y - np.dot(X,self.w) - 0.5*self.delta) , ord = 1)\n",
    "    \n",
    "    def calc_gradient(self, X, y):\n",
    "        \n",
    "        if self.gd_type != 'full' and self.gd_type != 'stochastic':\n",
    "            raise Exception('Unknown gd_type')\n",
    "            \n",
    "        if self.gd_type == 'full':\n",
    "            if (la.norm(y - np.dot(X,self.w))) <= self.delta:\n",
    "                grad = np.dot(X.T, (np.dot(X,self.w) - y)) / y.shape[0]\n",
    "            else:\n",
    "                grad =  self.delta *np.dot(X.T, np.sign(np.dot(X,self.w) - y))/ y.shape[0]\n",
    "            \n",
    "        if self.gd_type == 'stochastic':\n",
    "            sample = np.random.randint(low = 0, high = X.shape[0],size = self.batch_size)                \n",
    "            if la.norm(y - np.dot(X,self.w)) <= self.delta:\n",
    "                grad = np.dot(X.iloc[sample].T, (np.dot(X.iloc[sample],self.w) - y.iloc[sample]))/self.batch_size\n",
    "            else:\n",
    "                grad =  self.delta *np.dot(X.iloc[sample].T,\n",
    "                                               np.sign(np.dot(X.iloc[sample],self.w) -y.iloc[sample]))/self.batch_size\n",
    "        return grad\n",
    "\n",
    "\n",
    "    def fit(self, X, y):\n",
    "        self.loss_history = []\n",
    "        step_size_0 = 0.06\n",
    "        self.w = np.zeros(X.shape[1])\n",
    "        w_mem = self.w.copy()\n",
    "        h = np.zeros(X.shape[1])\n",
    "        for i in range(self.max_iter):\n",
    "            step_size = step_size_0 / ((i+1)**0.51)\n",
    "            self.w -=h\n",
    "            self.loss_history.append(self.calc_loss(X,y))\n",
    "            h = self.alpha * h + step_size *self.calc_gradient(X,y)\n",
    "            if np.abs(la.norm(w_mem) - la.norm(self.w)) < self.tolerance and i != 0:\n",
    "                print('Stoped by w-norm')\n",
    "                break\n",
    "\n",
    "        return self\n",
    "    \n",
    "    def predict(self, X):\n",
    "        if self.w is None:\n",
    "            raise Exception('Not trained yet')\n",
    "        return np.dot(X,self.w)\n",
    "        pass\n",
    "    \n",
    "    def score(self, X, y):\n",
    "        if self.w is None:\n",
    "            raise Exception('Not trained yet')\n",
    "        return (1 - ((y - np.dot(X,self.w))**2).sum()/((y - np.mean(y))**2).sum())"
   ]
  },
  {
   "cell_type": "markdown",
   "metadata": {},
   "source": [
    "### Example"
   ]
  },
  {
   "cell_type": "code",
   "execution_count": 3,
   "metadata": {},
   "outputs": [
    {
     "data": {
      "text/html": [
       "<div>\n",
       "<style scoped>\n",
       "    .dataframe tbody tr th:only-of-type {\n",
       "        vertical-align: middle;\n",
       "    }\n",
       "\n",
       "    .dataframe tbody tr th {\n",
       "        vertical-align: top;\n",
       "    }\n",
       "\n",
       "    .dataframe thead th {\n",
       "        text-align: right;\n",
       "    }\n",
       "</style>\n",
       "<table border=\"1\" class=\"dataframe\">\n",
       "  <thead>\n",
       "    <tr style=\"text-align: right;\">\n",
       "      <th></th>\n",
       "      <th>f0</th>\n",
       "      <th>f1</th>\n",
       "      <th>f2</th>\n",
       "      <th>f3</th>\n",
       "      <th>f4</th>\n",
       "      <th>f5</th>\n",
       "      <th>f6</th>\n",
       "    </tr>\n",
       "  </thead>\n",
       "  <tbody>\n",
       "    <tr>\n",
       "      <th>0</th>\n",
       "      <td>16.99</td>\n",
       "      <td>1.01</td>\n",
       "      <td>0.976270</td>\n",
       "      <td>-3.697815</td>\n",
       "      <td>0.623295</td>\n",
       "      <td>0.524760</td>\n",
       "      <td>7199.992000</td>\n",
       "    </tr>\n",
       "    <tr>\n",
       "      <th>1</th>\n",
       "      <td>10.34</td>\n",
       "      <td>1.66</td>\n",
       "      <td>4.303787</td>\n",
       "      <td>7.715073</td>\n",
       "      <td>0.886961</td>\n",
       "      <td>0.473862</td>\n",
       "      <td>2466.136700</td>\n",
       "    </tr>\n",
       "    <tr>\n",
       "      <th>2</th>\n",
       "      <td>21.01</td>\n",
       "      <td>3.50</td>\n",
       "      <td>2.055268</td>\n",
       "      <td>-6.464284</td>\n",
       "      <td>0.618826</td>\n",
       "      <td>1.657394</td>\n",
       "      <td>2969.369100</td>\n",
       "    </tr>\n",
       "    <tr>\n",
       "      <th>3</th>\n",
       "      <td>23.68</td>\n",
       "      <td>3.31</td>\n",
       "      <td>0.897664</td>\n",
       "      <td>1.335254</td>\n",
       "      <td>0.133461</td>\n",
       "      <td>1.234554</td>\n",
       "      <td>1040.665300</td>\n",
       "    </tr>\n",
       "    <tr>\n",
       "      <th>4</th>\n",
       "      <td>24.59</td>\n",
       "      <td>3.61</td>\n",
       "      <td>-1.526904</td>\n",
       "      <td>-0.196414</td>\n",
       "      <td>0.980580</td>\n",
       "      <td>3.086397</td>\n",
       "      <td>37.469975</td>\n",
       "    </tr>\n",
       "  </tbody>\n",
       "</table>\n",
       "</div>"
      ],
      "text/plain": [
       "      f0    f1        f2        f3        f4        f5           f6\n",
       "0  16.99  1.01  0.976270 -3.697815  0.623295  0.524760  7199.992000\n",
       "1  10.34  1.66  4.303787  7.715073  0.886961  0.473862  2466.136700\n",
       "2  21.01  3.50  2.055268 -6.464284  0.618826  1.657394  2969.369100\n",
       "3  23.68  3.31  0.897664  1.335254  0.133461  1.234554  1040.665300\n",
       "4  24.59  3.61 -1.526904 -0.196414  0.980580  3.086397    37.469975"
      ]
     },
     "execution_count": 3,
     "metadata": {},
     "output_type": "execute_result"
    }
   ],
   "source": [
    "data=pd.read_csv('data.csv')\n",
    "data.head()"
   ]
  },
  {
   "cell_type": "code",
   "execution_count": 4,
   "metadata": {},
   "outputs": [],
   "source": [
    "# normolaize the features \n",
    "for i in range(0,7):\n",
    "    data['f%s' % i ] = (data['f%s' % i ] - data['f%s' % i].mean()) / data['f%s' % i].var()\n",
    "X_train, X_test, y_train, y_test = train_test_split(data, data['f1'],test_size = 0.3)"
   ]
  },
  {
   "cell_type": "code",
   "execution_count": 5,
   "metadata": {},
   "outputs": [
    {
     "name": "stdout",
     "output_type": "stream",
     "text": [
      "R2-score: 0.9998967797035738\n",
      "W: [ 9.25342178e-02  9.88099841e-01 -2.44870755e-03 -1.41178595e-02\n",
      " -2.78762425e-04  8.38814277e-04 -3.95176991e-06]\n",
      "CPU times: user 11.3 s, sys: 0 ns, total: 11.3 s\n",
      "Wall time: 11.3 s\n"
     ]
    }
   ],
   "source": [
    "%%time\n",
    "hubreg = HuberReg(gd_type='full')\n",
    "hubreg.fit(X_train,y_train)\n",
    "print(\"R2-score: %s\" %hubreg.score(X_test,y_test))\n",
    "print (\"W: %s\" %hubreg.w)"
   ]
  },
  {
   "cell_type": "code",
   "execution_count": 6,
   "metadata": {},
   "outputs": [
    {
     "name": "stdout",
     "output_type": "stream",
     "text": [
      "R2-score: 0.9998920181042534\n",
      "W: [ 9.46874861e-02  9.87938072e-01 -8.24309624e-03 -1.27391517e-02\n",
      " -2.27232360e-04  7.70048161e-04 -9.98237841e-07]\n",
      "CPU times: user 19 s, sys: 1.52 ms, total: 19 s\n",
      "Wall time: 19 s\n"
     ]
    }
   ],
   "source": [
    "%%time\n",
    "hubreg = HuberReg(gd_type='stochastic')\n",
    "hubreg.fit(X_train,y_train)\n",
    "print(\"R2-score: %s\" %hubreg.score(X_test,y_test))\n",
    "print (\"W: %s\" %hubreg.w)"
   ]
  },
  {
   "cell_type": "code",
   "execution_count": 7,
   "metadata": {},
   "outputs": [
    {
     "name": "stderr",
     "output_type": "stream",
     "text": [
      "/home/hacket/anaconda3/lib/python3.7/site-packages/numpy/linalg/linalg.py:2386: RuntimeWarning: overflow encountered in reduce\n",
      "  return add.reduce(abs(x), axis=axis, keepdims=keepdims)\n",
      "/home/hacket/anaconda3/lib/python3.7/site-packages/ipykernel_launcher.py:56: RuntimeWarning: overflow encountered in subtract\n",
      "/home/hacket/anaconda3/lib/python3.7/site-packages/ipykernel_launcher.py:58: RuntimeWarning: overflow encountered in multiply\n"
     ]
    },
    {
     "name": "stdout",
     "output_type": "stream",
     "text": [
      "CPU times: user 21min 43s, sys: 344 ms, total: 21min 44s\n",
      "Wall time: 21min 44s\n"
     ]
    }
   ],
   "source": [
    "%%time\n",
    "params = {'alpha':np.arange(0.8,2,0.1)}\n",
    "grid = GridSearchCV(hubreg,param_grid=params, cv = 5)\n",
    "grid.fit(X_train, y_train)"
   ]
  },
  {
   "cell_type": "code",
   "execution_count": 8,
   "metadata": {},
   "outputs": [
    {
     "name": "stdout",
     "output_type": "stream",
     "text": [
      "R2-score: 1.0\n"
     ]
    }
   ],
   "source": [
    "print('R2-score: %s' %grid.score(X_test,y_test))"
   ]
  }
 ],
 "metadata": {
  "kernelspec": {
   "display_name": "Python 3",
   "language": "python",
   "name": "python3"
  },
  "language_info": {
   "codemirror_mode": {
    "name": "ipython",
    "version": 3
   },
   "file_extension": ".py",
   "mimetype": "text/x-python",
   "name": "python",
   "nbconvert_exporter": "python",
   "pygments_lexer": "ipython3",
   "version": "3.7.1"
  }
 },
 "nbformat": 4,
 "nbformat_minor": 2
}
